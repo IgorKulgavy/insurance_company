{
 "cells": [
  {
   "cell_type": "markdown",
   "metadata": {
    "toc": true
   },
   "source": [
    "<h1>Содержание<span class=\"tocSkip\"></span></h1>\n",
    "<div class=\"toc\"><ul class=\"toc-item\"><li><span><a href=\"#Загрузка-данных\" data-toc-modified-id=\"Загрузка-данных-1\"><span class=\"toc-item-num\">1&nbsp;&nbsp;</span>Загрузка данных</a></span></li><li><span><a href=\"#Умножение-матриц\" data-toc-modified-id=\"Умножение-матриц-2\"><span class=\"toc-item-num\">2&nbsp;&nbsp;</span>Умножение матриц</a></span></li><li><span><a href=\"#Алгоритм-преобразования\" data-toc-modified-id=\"Алгоритм-преобразования-3\"><span class=\"toc-item-num\">3&nbsp;&nbsp;</span>Алгоритм преобразования</a></span></li><li><span><a href=\"#Проверка-алгоритма\" data-toc-modified-id=\"Проверка-алгоритма-4\"><span class=\"toc-item-num\">4&nbsp;&nbsp;</span>Проверка алгоритма</a></span></li><li><span><a href=\"#Выводы\" data-toc-modified-id=\"Выводы-5\"><span class=\"toc-item-num\">5&nbsp;&nbsp;</span>Выводы</a></span></li><li><span><a href=\"#Чек-лист-проверки\" data-toc-modified-id=\"Чек-лист-проверки-6\"><span class=\"toc-item-num\">6&nbsp;&nbsp;</span>Чек-лист проверки</a></span></li></ul></div>"
   ]
  },
  {
   "cell_type": "markdown",
   "metadata": {},
   "source": [
    "# Защита персональных данных клиентов"
   ]
  },
  {
   "cell_type": "markdown",
   "metadata": {},
   "source": [
    "Цель: защитить данные клиентов страховой компании «Хоть потоп». \n",
    "\n",
    "Задачи:\n",
    "- Разработать метод преобразования данных, чтобы по ниму было сложно восстановить персональную информацию.\n",
    "- Обоснуйте корректность его работы.\n",
    "- Необходимо защитить данные так, чтобы при преобразовании качество моделей машинного обучения не ухудшилось. \n",
    "\n",
    "Дополнительно: Подбирать наилучшую модель не требуется."
   ]
  },
  {
   "cell_type": "markdown",
   "metadata": {},
   "source": [
    "## Загрузка данных"
   ]
  },
  {
   "cell_type": "code",
   "execution_count": 1,
   "metadata": {},
   "outputs": [],
   "source": [
    "import pandas as pd\n",
    "import numpy as np\n",
    "from sklearn.linear_model import LinearRegression\n",
    "from sklearn.metrics import r2_score\n",
    "from sklearn.model_selection import train_test_split"
   ]
  },
  {
   "cell_type": "code",
   "execution_count": 2,
   "metadata": {},
   "outputs": [],
   "source": [
    "df = pd.read_csv('/datasets/insurance.csv')"
   ]
  },
  {
   "cell_type": "code",
   "execution_count": 3,
   "metadata": {},
   "outputs": [
    {
     "data": {
      "text/html": [
       "<div>\n",
       "<style scoped>\n",
       "    .dataframe tbody tr th:only-of-type {\n",
       "        vertical-align: middle;\n",
       "    }\n",
       "\n",
       "    .dataframe tbody tr th {\n",
       "        vertical-align: top;\n",
       "    }\n",
       "\n",
       "    .dataframe thead th {\n",
       "        text-align: right;\n",
       "    }\n",
       "</style>\n",
       "<table border=\"1\" class=\"dataframe\">\n",
       "  <thead>\n",
       "    <tr style=\"text-align: right;\">\n",
       "      <th></th>\n",
       "      <th>Пол</th>\n",
       "      <th>Возраст</th>\n",
       "      <th>Зарплата</th>\n",
       "      <th>Члены семьи</th>\n",
       "      <th>Страховые выплаты</th>\n",
       "    </tr>\n",
       "  </thead>\n",
       "  <tbody>\n",
       "    <tr>\n",
       "      <th>0</th>\n",
       "      <td>1</td>\n",
       "      <td>41.0</td>\n",
       "      <td>49600.0</td>\n",
       "      <td>1</td>\n",
       "      <td>0</td>\n",
       "    </tr>\n",
       "    <tr>\n",
       "      <th>1</th>\n",
       "      <td>0</td>\n",
       "      <td>46.0</td>\n",
       "      <td>38000.0</td>\n",
       "      <td>1</td>\n",
       "      <td>1</td>\n",
       "    </tr>\n",
       "    <tr>\n",
       "      <th>2</th>\n",
       "      <td>0</td>\n",
       "      <td>29.0</td>\n",
       "      <td>21000.0</td>\n",
       "      <td>0</td>\n",
       "      <td>0</td>\n",
       "    </tr>\n",
       "    <tr>\n",
       "      <th>3</th>\n",
       "      <td>0</td>\n",
       "      <td>21.0</td>\n",
       "      <td>41700.0</td>\n",
       "      <td>2</td>\n",
       "      <td>0</td>\n",
       "    </tr>\n",
       "    <tr>\n",
       "      <th>4</th>\n",
       "      <td>1</td>\n",
       "      <td>28.0</td>\n",
       "      <td>26100.0</td>\n",
       "      <td>0</td>\n",
       "      <td>0</td>\n",
       "    </tr>\n",
       "    <tr>\n",
       "      <th>5</th>\n",
       "      <td>1</td>\n",
       "      <td>43.0</td>\n",
       "      <td>41000.0</td>\n",
       "      <td>2</td>\n",
       "      <td>1</td>\n",
       "    </tr>\n",
       "    <tr>\n",
       "      <th>6</th>\n",
       "      <td>1</td>\n",
       "      <td>39.0</td>\n",
       "      <td>39700.0</td>\n",
       "      <td>2</td>\n",
       "      <td>0</td>\n",
       "    </tr>\n",
       "    <tr>\n",
       "      <th>7</th>\n",
       "      <td>1</td>\n",
       "      <td>25.0</td>\n",
       "      <td>38600.0</td>\n",
       "      <td>4</td>\n",
       "      <td>0</td>\n",
       "    </tr>\n",
       "    <tr>\n",
       "      <th>8</th>\n",
       "      <td>1</td>\n",
       "      <td>36.0</td>\n",
       "      <td>49700.0</td>\n",
       "      <td>1</td>\n",
       "      <td>0</td>\n",
       "    </tr>\n",
       "    <tr>\n",
       "      <th>9</th>\n",
       "      <td>1</td>\n",
       "      <td>32.0</td>\n",
       "      <td>51700.0</td>\n",
       "      <td>1</td>\n",
       "      <td>0</td>\n",
       "    </tr>\n",
       "  </tbody>\n",
       "</table>\n",
       "</div>"
      ],
      "text/plain": [
       "   Пол  Возраст  Зарплата  Члены семьи  Страховые выплаты\n",
       "0    1     41.0   49600.0            1                  0\n",
       "1    0     46.0   38000.0            1                  1\n",
       "2    0     29.0   21000.0            0                  0\n",
       "3    0     21.0   41700.0            2                  0\n",
       "4    1     28.0   26100.0            0                  0\n",
       "5    1     43.0   41000.0            2                  1\n",
       "6    1     39.0   39700.0            2                  0\n",
       "7    1     25.0   38600.0            4                  0\n",
       "8    1     36.0   49700.0            1                  0\n",
       "9    1     32.0   51700.0            1                  0"
      ]
     },
     "execution_count": 3,
     "metadata": {},
     "output_type": "execute_result"
    }
   ],
   "source": [
    "df.head(10)"
   ]
  },
  {
   "cell_type": "code",
   "execution_count": 4,
   "metadata": {},
   "outputs": [
    {
     "name": "stdout",
     "output_type": "stream",
     "text": [
      "<class 'pandas.core.frame.DataFrame'>\n",
      "RangeIndex: 5000 entries, 0 to 4999\n",
      "Data columns (total 5 columns):\n",
      " #   Column             Non-Null Count  Dtype  \n",
      "---  ------             --------------  -----  \n",
      " 0   Пол                5000 non-null   int64  \n",
      " 1   Возраст            5000 non-null   float64\n",
      " 2   Зарплата           5000 non-null   float64\n",
      " 3   Члены семьи        5000 non-null   int64  \n",
      " 4   Страховые выплаты  5000 non-null   int64  \n",
      "dtypes: float64(2), int64(3)\n",
      "memory usage: 195.4 KB\n"
     ]
    }
   ],
   "source": [
    "df.info()"
   ]
  },
  {
   "cell_type": "markdown",
   "metadata": {},
   "source": [
    "Изменим тип данных в столбцах возрасти зарплата"
   ]
  },
  {
   "cell_type": "code",
   "execution_count": 5,
   "metadata": {},
   "outputs": [],
   "source": [
    "df[['Возраст','Зарплата']] = df[['Возраст','Зарплата']].astype(int)"
   ]
  },
  {
   "cell_type": "markdown",
   "metadata": {},
   "source": [
    "Проверим данные на явные дубликаты и определим их количество по отношению к общему количеству данных."
   ]
  },
  {
   "cell_type": "code",
   "execution_count": 6,
   "metadata": {},
   "outputs": [
    {
     "data": {
      "text/plain": [
       "0.0306"
      ]
     },
     "execution_count": 6,
     "metadata": {},
     "output_type": "execute_result"
    }
   ],
   "source": [
    "df.duplicated().sum() / len(df)"
   ]
  },
  {
   "cell_type": "markdown",
   "metadata": {},
   "source": [
    "Дубликаты составляют 3% от общего количества данных, можно убрать их."
   ]
  },
  {
   "cell_type": "code",
   "execution_count": 7,
   "metadata": {},
   "outputs": [],
   "source": [
    "df = df.drop_duplicates()"
   ]
  },
  {
   "cell_type": "markdown",
   "metadata": {},
   "source": [
    "Проверим"
   ]
  },
  {
   "cell_type": "code",
   "execution_count": 8,
   "metadata": {},
   "outputs": [
    {
     "name": "stdout",
     "output_type": "stream",
     "text": [
      "<class 'pandas.core.frame.DataFrame'>\n",
      "Int64Index: 4847 entries, 0 to 4999\n",
      "Data columns (total 5 columns):\n",
      " #   Column             Non-Null Count  Dtype\n",
      "---  ------             --------------  -----\n",
      " 0   Пол                4847 non-null   int64\n",
      " 1   Возраст            4847 non-null   int64\n",
      " 2   Зарплата           4847 non-null   int64\n",
      " 3   Члены семьи        4847 non-null   int64\n",
      " 4   Страховые выплаты  4847 non-null   int64\n",
      "dtypes: int64(5)\n",
      "memory usage: 227.2 KB\n"
     ]
    }
   ],
   "source": [
    "df.info()"
   ]
  },
  {
   "cell_type": "markdown",
   "metadata": {},
   "source": [
    "Промежуточные выводы:\n",
    "1. Загружены данные.\n",
    "2. Изменены типы данных признаков возраста и заработной пллаты.\n",
    "3. Данные проверены на явные дубликаты. Выявленные дубликаты обраны из данных.\n",
    "4. В данных необнаружены пропуски."
   ]
  },
  {
   "cell_type": "markdown",
   "metadata": {},
   "source": [
    "## Умножение матриц"
   ]
  },
  {
   "cell_type": "markdown",
   "metadata": {},
   "source": [
    "Обозначения:\n",
    "\n",
    "- $X$ — матрица признаков (нулевой столбец состоит из единиц)\n",
    "\n",
    "- $y$ — вектор целевого признака\n",
    "\n",
    "- $P$ — обратимая матрица, на которую умножаются признаки\n",
    "\n",
    "- $w$ — вектор весов линейной регрессии (нулевой элемент равен сдвигу)"
   ]
  },
  {
   "cell_type": "markdown",
   "metadata": {},
   "source": [
    "Предсказания:\n",
    "\n",
    "$$\n",
    "a = Xw\n",
    "$$\n",
    "\n",
    "Задача обучения:\n",
    "\n",
    "$$\n",
    "w = \\arg\\min_w MSE(Xw, y)\n",
    "$$\n",
    "\n",
    "Формула обучения:\n",
    "\n",
    "$$\n",
    "w = (X^T X)^{-1} X^T y\n",
    "$$"
   ]
  },
  {
   "cell_type": "markdown",
   "metadata": {},
   "source": [
    "Заменим матрицу $X$ на матрицу $Z$:\n",
    "\n",
    "$$Z = XP$$\n",
    "\n",
    "где $P$ - обратимая матрица с некими значениями, на которую может быть умножена матрица $X$.\n",
    "\n",
    "\n",
    "Заменим $X$ на $Z$ и вычислим, чему будет равено предсказание и вектор весов.\n",
    "\n",
    "\n",
    "$$a_1 = Zw_1$$\n",
    "\n",
    "$$w_1 = (Z^T Z)^{-1} Z^T y $$\n",
    "\n",
    "Подставим значения\n",
    "\n",
    "$$a_1 = Z (Z^T Z)^{-1} Z^T y $$\n",
    "\n",
    "Заменим все $Z$ \n",
    "\n",
    "$$a_1 = XP ((XP)^T (XP))^{-1} (XP)^T y $$"
   ]
  },
  {
   "cell_type": "markdown",
   "metadata": {},
   "source": [
    "\n",
    "Раскроем скобки в 2 этапа:\n",
    "$$\n",
    "a_1 = XP(P^T X^T XP)^{-1} (XP)^T y\n",
    "$$\n",
    "$$\n",
    "a_1 = XPP^{-1} (X^T X)^{-1} (P^T)^{-1} P^T X^T y\n",
    "$$\n",
    "Т.к. $$A^{-1}A = E$$\n",
    "\n",
    "Можем преобразовать уравнение:\n",
    "$$\n",
    "a_1 = X (X^T X)^{-1} X^T y = X w = a\n",
    "$$\n"
   ]
  },
  {
   "cell_type": "markdown",
   "metadata": {},
   "source": [
    "## Алгоритм преобразования"
   ]
  },
  {
   "cell_type": "markdown",
   "metadata": {},
   "source": [
    "**Алгоритм**\n",
    "\n",
    "1. Создание матрицы признаков.\n",
    "2. Создание кодирующей обратимой матрицы размером равным количеству признаков.\n",
    "3. Прверка матрицы на обратимость.\n",
    "4. Получение матрицы преобразованных признаков.\n",
    "5. Обучение модели на двух мтарицах.\n",
    "6. Проверка качества моделей на исходных и измененённых данных посредством сравнения r2."
   ]
  },
  {
   "cell_type": "markdown",
   "metadata": {},
   "source": [
    "**Обоснование**\n",
    "\n",
    "Для преобразования данных необходима обратимая невырожденная матрица. Матрица должна быть такой же размерности как исходная по количеству признаков для регрессии."
   ]
  },
  {
   "cell_type": "markdown",
   "metadata": {},
   "source": [
    "## Проверка алгоритма"
   ]
  },
  {
   "cell_type": "code",
   "execution_count": 9,
   "metadata": {},
   "outputs": [],
   "source": [
    "RANDOM_STATE=12345"
   ]
  },
  {
   "cell_type": "code",
   "execution_count": 10,
   "metadata": {},
   "outputs": [
    {
     "name": "stdout",
     "output_type": "stream",
     "text": [
      "Исходные данные r2: 0.42307727615837565\n"
     ]
    }
   ],
   "source": [
    "features=df.drop('Страховые выплаты', axis =1)\n",
    "target = df['Страховые выплаты']\n",
    "\n",
    "features_train, features_test, target_train, target_test = train_test_split(\n",
    "    features, target, test_size=0.25, random_state=RANDOM_STATE)\n",
    "\n",
    "model = LinearRegression()\n",
    "model.fit(features_train, target_train)\n",
    "predicts = model.predict(features_test)\n",
    "r2_1 = r2_score(target_test, predicts)\n",
    "print('Исходные данные r2:', r2_1)"
   ]
  },
  {
   "cell_type": "markdown",
   "metadata": {},
   "source": [
    "Создаю случайную матрицу нужной размерности."
   ]
  },
  {
   "cell_type": "code",
   "execution_count": 11,
   "metadata": {},
   "outputs": [],
   "source": [
    "n= features.shape[1]"
   ]
  },
  {
   "cell_type": "code",
   "execution_count": 12,
   "metadata": {},
   "outputs": [],
   "source": [
    "matrix_rand = np.random.normal(size=(n, n))"
   ]
  },
  {
   "cell_type": "markdown",
   "metadata": {},
   "source": [
    "Поверка матрицы на невырожденность."
   ]
  },
  {
   "cell_type": "code",
   "execution_count": 13,
   "metadata": {},
   "outputs": [
    {
     "name": "stdout",
     "output_type": "stream",
     "text": [
      "correct\n"
     ]
    }
   ],
   "source": [
    "if np.linalg.det(matrix_rand) != 0:\n",
    "    print('correct')"
   ]
  },
  {
   "cell_type": "markdown",
   "metadata": {},
   "source": [
    "Обучим модель на признаках умноженных на случайную матрицу"
   ]
  },
  {
   "cell_type": "code",
   "execution_count": 14,
   "metadata": {},
   "outputs": [],
   "source": [
    "features_changed = features @ matrix_rand\n",
    "features_train_ch, features_test_ch, target_train_ch, target_test_ch = train_test_split(\n",
    "    features_changed, target, test_size=0.25, random_state=RANDOM_STATE)"
   ]
  },
  {
   "cell_type": "code",
   "execution_count": 15,
   "metadata": {},
   "outputs": [
    {
     "name": "stdout",
     "output_type": "stream",
     "text": [
      "Измененённые данные r2: 0.4230772761583821\n"
     ]
    }
   ],
   "source": [
    "model.fit(features_train_ch, target_train_ch)\n",
    "predicts_ch = model.predict(features_test_ch)\n",
    "r2_1 = r2_score(target_test_ch, predicts_ch)\n",
    "print('Измененённые данные r2:', r2_1)"
   ]
  },
  {
   "cell_type": "markdown",
   "metadata": {},
   "source": [
    "R2 на обоих моделях равны до 12 знаков после запятой."
   ]
  },
  {
   "cell_type": "markdown",
   "metadata": {},
   "source": [
    "## Выводы"
   ]
  },
  {
   "cell_type": "markdown",
   "metadata": {},
   "source": [
    "1. Загружены данные.\n",
    "2. Разработан алгоритм преобразования данных.\n",
    "3. Изменена исходная матрица согласно алгоритму.\n",
    "4. Проверен алгоритм изменения данных, проверена метрика R2 на изначальных и изменённых данных."
   ]
  }
 ],
 "metadata": {
  "ExecuteTimeLog": [
   {
    "duration": 470,
    "start_time": "2022-06-15T12:09:02.109Z"
   },
   {
    "duration": 36,
    "start_time": "2022-06-15T12:11:11.445Z"
   },
   {
    "duration": 83,
    "start_time": "2022-06-15T12:11:19.277Z"
   },
   {
    "duration": 19,
    "start_time": "2022-06-15T12:11:25.041Z"
   },
   {
    "duration": 74,
    "start_time": "2022-06-15T12:40:29.696Z"
   },
   {
    "duration": 10,
    "start_time": "2022-06-15T12:40:34.200Z"
   },
   {
    "duration": 9,
    "start_time": "2022-06-15T12:40:37.882Z"
   },
   {
    "duration": 9,
    "start_time": "2022-06-15T12:40:42.023Z"
   },
   {
    "duration": 3,
    "start_time": "2022-06-15T12:40:57.014Z"
   },
   {
    "duration": 5,
    "start_time": "2022-06-15T12:41:00.063Z"
   },
   {
    "duration": 5,
    "start_time": "2022-06-15T12:41:23.806Z"
   },
   {
    "duration": 5,
    "start_time": "2022-06-15T12:42:20.909Z"
   },
   {
    "duration": 7,
    "start_time": "2022-06-15T12:46:09.702Z"
   },
   {
    "duration": 6,
    "start_time": "2022-06-15T12:46:14.526Z"
   },
   {
    "duration": 6,
    "start_time": "2022-06-15T12:46:19.661Z"
   },
   {
    "duration": 7,
    "start_time": "2022-06-15T12:50:26.539Z"
   },
   {
    "duration": 67,
    "start_time": "2022-06-15T12:50:31.860Z"
   },
   {
    "duration": 47,
    "start_time": "2022-06-17T05:55:35.266Z"
   },
   {
    "duration": 482,
    "start_time": "2022-06-17T05:55:39.322Z"
   },
   {
    "duration": 76,
    "start_time": "2022-06-17T05:55:39.806Z"
   },
   {
    "duration": 23,
    "start_time": "2022-06-17T05:55:40.331Z"
   },
   {
    "duration": 4,
    "start_time": "2022-06-17T05:55:42.083Z"
   },
   {
    "duration": 3,
    "start_time": "2022-06-17T05:56:53.684Z"
   },
   {
    "duration": 38,
    "start_time": "2022-06-17T05:57:05.170Z"
   },
   {
    "duration": 3,
    "start_time": "2022-06-17T05:57:13.833Z"
   },
   {
    "duration": 299,
    "start_time": "2022-06-17T05:57:14.372Z"
   },
   {
    "duration": 29,
    "start_time": "2022-06-17T05:57:20.682Z"
   },
   {
    "duration": 743,
    "start_time": "2022-06-17T06:00:00.667Z"
   },
   {
    "duration": 5,
    "start_time": "2022-06-17T06:01:16.905Z"
   },
   {
    "duration": 11,
    "start_time": "2022-06-17T06:01:35.818Z"
   },
   {
    "duration": 12,
    "start_time": "2022-06-17T06:02:02.641Z"
   },
   {
    "duration": 3,
    "start_time": "2022-06-17T06:02:45.594Z"
   },
   {
    "duration": 224,
    "start_time": "2022-06-17T06:02:48.745Z"
   },
   {
    "duration": 42,
    "start_time": "2022-06-17T06:03:21.708Z"
   },
   {
    "duration": 279,
    "start_time": "2022-06-17T06:03:25.786Z"
   },
   {
    "duration": 9,
    "start_time": "2022-06-17T06:03:26.165Z"
   },
   {
    "duration": 294295,
    "start_time": "2022-06-17T06:03:30.377Z"
   },
   {
    "duration": 412,
    "start_time": "2022-06-17T06:23:52.480Z"
   },
   {
    "duration": 30,
    "start_time": "2022-06-17T06:23:52.894Z"
   },
   {
    "duration": 20,
    "start_time": "2022-06-17T06:23:52.926Z"
   },
   {
    "duration": 671,
    "start_time": "2022-06-17T06:23:52.949Z"
   },
   {
    "duration": 42,
    "start_time": "2022-06-17T06:23:53.622Z"
   },
   {
    "duration": 100,
    "start_time": "2022-06-17T06:23:53.668Z"
   },
   {
    "duration": 296,
    "start_time": "2022-06-17T06:23:53.770Z"
   },
   {
    "duration": 310103,
    "start_time": "2022-06-17T06:23:54.069Z"
   },
   {
    "duration": 190,
    "start_time": "2022-06-17T06:29:04.176Z"
   },
   {
    "duration": 55,
    "start_time": "2022-06-17T06:29:18.381Z"
   },
   {
    "duration": 691,
    "start_time": "2022-06-17T06:29:37.246Z"
   },
   {
    "duration": 16,
    "start_time": "2022-06-17T06:29:39.731Z"
   },
   {
    "duration": 4,
    "start_time": "2022-06-17T06:33:13.044Z"
   },
   {
    "duration": 5,
    "start_time": "2022-06-17T06:33:17.603Z"
   },
   {
    "duration": 11,
    "start_time": "2022-06-17T06:33:31.050Z"
   },
   {
    "duration": 6,
    "start_time": "2022-06-17T06:33:35.995Z"
   },
   {
    "duration": 5,
    "start_time": "2022-06-17T06:33:46.380Z"
   },
   {
    "duration": 17,
    "start_time": "2022-06-17T06:36:17.985Z"
   },
   {
    "duration": 10,
    "start_time": "2022-06-17T06:36:49.169Z"
   },
   {
    "duration": 5,
    "start_time": "2022-06-17T06:38:48.580Z"
   },
   {
    "duration": 8,
    "start_time": "2022-06-17T06:38:49.938Z"
   },
   {
    "duration": 7,
    "start_time": "2022-06-17T06:38:58.538Z"
   },
   {
    "duration": 68,
    "start_time": "2022-06-17T06:46:23.712Z"
   },
   {
    "duration": 1393,
    "start_time": "2022-06-17T12:24:44.052Z"
   },
   {
    "duration": 83,
    "start_time": "2022-06-17T12:24:46.868Z"
   },
   {
    "duration": 21,
    "start_time": "2022-06-17T12:24:47.094Z"
   },
   {
    "duration": 3,
    "start_time": "2022-06-17T12:26:02.583Z"
   },
   {
    "duration": 120,
    "start_time": "2022-06-17T12:28:19.192Z"
   },
   {
    "duration": 4,
    "start_time": "2022-06-17T12:28:22.062Z"
   },
   {
    "duration": 21,
    "start_time": "2022-06-17T12:28:22.254Z"
   },
   {
    "duration": 17,
    "start_time": "2022-06-17T12:29:04.462Z"
   },
   {
    "duration": 12,
    "start_time": "2022-06-17T12:29:15.734Z"
   },
   {
    "duration": 14,
    "start_time": "2022-06-17T12:29:20.330Z"
   },
   {
    "duration": 12,
    "start_time": "2022-06-17T12:29:29.660Z"
   },
   {
    "duration": 3,
    "start_time": "2022-06-17T12:30:49.262Z"
   },
   {
    "duration": 4,
    "start_time": "2022-06-17T12:30:49.855Z"
   },
   {
    "duration": 4,
    "start_time": "2022-06-17T12:34:26.878Z"
   },
   {
    "duration": 6,
    "start_time": "2022-06-17T12:45:52.151Z"
   },
   {
    "duration": 4,
    "start_time": "2022-06-17T12:49:57.628Z"
   },
   {
    "duration": 4,
    "start_time": "2022-06-17T12:52:09.562Z"
   },
   {
    "duration": 5,
    "start_time": "2022-06-17T12:52:32.998Z"
   },
   {
    "duration": 6,
    "start_time": "2022-06-17T12:53:40.642Z"
   },
   {
    "duration": 10,
    "start_time": "2022-06-17T12:53:41.399Z"
   },
   {
    "duration": 975,
    "start_time": "2022-06-18T07:39:27.060Z"
   },
   {
    "duration": 28,
    "start_time": "2022-06-18T07:39:28.036Z"
   },
   {
    "duration": 18,
    "start_time": "2022-06-18T07:39:28.066Z"
   },
   {
    "duration": 12,
    "start_time": "2022-06-18T07:39:28.086Z"
   },
   {
    "duration": 12,
    "start_time": "2022-06-18T07:39:28.100Z"
   },
   {
    "duration": 2,
    "start_time": "2022-06-18T07:39:28.114Z"
   },
   {
    "duration": 9,
    "start_time": "2022-06-18T07:39:28.117Z"
   },
   {
    "duration": 8,
    "start_time": "2022-06-18T07:39:28.128Z"
   },
   {
    "duration": 61,
    "start_time": "2022-06-18T07:39:28.138Z"
   },
   {
    "duration": 98,
    "start_time": "2022-06-18T07:39:28.202Z"
   },
   {
    "duration": 39,
    "start_time": "2022-06-18T08:01:06.444Z"
   },
   {
    "duration": 1087,
    "start_time": "2022-06-20T04:00:33.651Z"
   },
   {
    "duration": 74,
    "start_time": "2022-06-20T04:00:34.740Z"
   },
   {
    "duration": 17,
    "start_time": "2022-06-20T04:00:34.816Z"
   },
   {
    "duration": 7,
    "start_time": "2022-06-20T04:00:36.990Z"
   },
   {
    "duration": 6,
    "start_time": "2022-06-20T04:00:59.001Z"
   },
   {
    "duration": 92,
    "start_time": "2022-06-20T04:01:12.959Z"
   },
   {
    "duration": 20,
    "start_time": "2022-06-20T04:01:16.606Z"
   },
   {
    "duration": 11,
    "start_time": "2022-06-20T04:01:49.758Z"
   },
   {
    "duration": 4,
    "start_time": "2022-06-20T04:02:33.709Z"
   },
   {
    "duration": 11,
    "start_time": "2022-06-20T04:02:36.557Z"
   },
   {
    "duration": 5,
    "start_time": "2022-06-20T04:03:06.166Z"
   },
   {
    "duration": 10,
    "start_time": "2022-06-20T04:03:08.093Z"
   },
   {
    "duration": 7,
    "start_time": "2022-06-20T04:04:09.233Z"
   },
   {
    "duration": 10,
    "start_time": "2022-06-20T04:06:04.364Z"
   },
   {
    "duration": 5,
    "start_time": "2022-06-20T04:06:26.109Z"
   },
   {
    "duration": 13,
    "start_time": "2022-06-20T04:06:35.789Z"
   },
   {
    "duration": 2,
    "start_time": "2022-06-20T04:09:40.182Z"
   },
   {
    "duration": 12,
    "start_time": "2022-06-20T04:09:40.812Z"
   },
   {
    "duration": 2,
    "start_time": "2022-06-20T04:09:42.547Z"
   },
   {
    "duration": 4,
    "start_time": "2022-06-20T04:09:43.212Z"
   },
   {
    "duration": 3,
    "start_time": "2022-06-20T04:09:43.979Z"
   },
   {
    "duration": 6,
    "start_time": "2022-06-20T04:09:47.700Z"
   },
   {
    "duration": 8,
    "start_time": "2022-06-20T04:09:48.204Z"
   },
   {
    "duration": 10,
    "start_time": "2022-06-20T04:15:45.556Z"
   },
   {
    "duration": 9,
    "start_time": "2022-06-20T04:16:04.891Z"
   },
   {
    "duration": 9,
    "start_time": "2022-06-20T04:16:26.939Z"
   },
   {
    "duration": 8,
    "start_time": "2022-06-20T04:16:32.939Z"
   },
   {
    "duration": 8,
    "start_time": "2022-06-20T04:16:36.075Z"
   },
   {
    "duration": 4,
    "start_time": "2022-06-20T04:16:42.636Z"
   },
   {
    "duration": 4,
    "start_time": "2022-06-20T04:17:25.670Z"
   },
   {
    "duration": 4,
    "start_time": "2022-06-20T04:17:36.110Z"
   },
   {
    "duration": 10,
    "start_time": "2022-06-20T04:21:24.413Z"
   },
   {
    "duration": 1188,
    "start_time": "2022-06-20T04:27:43.915Z"
   },
   {
    "duration": 30,
    "start_time": "2022-06-20T04:27:45.105Z"
   },
   {
    "duration": 20,
    "start_time": "2022-06-20T04:27:45.139Z"
   },
   {
    "duration": 20,
    "start_time": "2022-06-20T04:27:45.161Z"
   },
   {
    "duration": 8,
    "start_time": "2022-06-20T04:27:45.182Z"
   },
   {
    "duration": 13,
    "start_time": "2022-06-20T04:27:45.191Z"
   },
   {
    "duration": 12,
    "start_time": "2022-06-20T04:27:45.206Z"
   },
   {
    "duration": 16,
    "start_time": "2022-06-20T04:27:45.219Z"
   },
   {
    "duration": 18,
    "start_time": "2022-06-20T04:27:45.237Z"
   },
   {
    "duration": 14,
    "start_time": "2022-06-20T04:27:45.257Z"
   },
   {
    "duration": 4,
    "start_time": "2022-06-20T04:27:45.273Z"
   },
   {
    "duration": 8,
    "start_time": "2022-06-20T04:27:45.278Z"
   },
   {
    "duration": 48,
    "start_time": "2022-06-20T04:27:45.288Z"
   },
   {
    "duration": 89,
    "start_time": "2022-06-20T04:27:45.339Z"
   },
   {
    "duration": 22,
    "start_time": "2022-06-20T04:27:45.430Z"
   },
   {
    "duration": 2,
    "start_time": "2022-06-20T04:28:27.642Z"
   },
   {
    "duration": 2,
    "start_time": "2022-06-20T04:28:27.890Z"
   },
   {
    "duration": 3,
    "start_time": "2022-06-20T04:28:28.620Z"
   },
   {
    "duration": 6,
    "start_time": "2022-06-20T04:28:53.588Z"
   },
   {
    "duration": 9,
    "start_time": "2022-06-20T04:28:54.290Z"
   },
   {
    "duration": 1042,
    "start_time": "2022-06-20T04:33:27.456Z"
   },
   {
    "duration": 31,
    "start_time": "2022-06-20T04:33:28.500Z"
   },
   {
    "duration": 16,
    "start_time": "2022-06-20T04:33:28.532Z"
   },
   {
    "duration": 12,
    "start_time": "2022-06-20T04:33:28.551Z"
   },
   {
    "duration": 5,
    "start_time": "2022-06-20T04:33:28.565Z"
   },
   {
    "duration": 11,
    "start_time": "2022-06-20T04:33:28.571Z"
   },
   {
    "duration": 7,
    "start_time": "2022-06-20T04:33:28.583Z"
   },
   {
    "duration": 16,
    "start_time": "2022-06-20T04:33:28.591Z"
   },
   {
    "duration": 18,
    "start_time": "2022-06-20T04:33:28.609Z"
   },
   {
    "duration": 12,
    "start_time": "2022-06-20T04:33:28.629Z"
   },
   {
    "duration": 2,
    "start_time": "2022-06-20T04:33:28.643Z"
   },
   {
    "duration": 8,
    "start_time": "2022-06-20T04:33:28.646Z"
   },
   {
    "duration": 12,
    "start_time": "2022-06-20T04:33:28.655Z"
   },
   {
    "duration": 10,
    "start_time": "2022-06-20T04:33:28.668Z"
   },
   {
    "duration": 1171,
    "start_time": "2022-06-21T02:03:24.626Z"
   },
   {
    "duration": 80,
    "start_time": "2022-06-21T02:03:25.799Z"
   },
   {
    "duration": 19,
    "start_time": "2022-06-21T02:03:25.881Z"
   },
   {
    "duration": 12,
    "start_time": "2022-06-21T02:03:25.902Z"
   },
   {
    "duration": 11,
    "start_time": "2022-06-21T02:03:25.916Z"
   },
   {
    "duration": 10,
    "start_time": "2022-06-21T02:03:25.928Z"
   },
   {
    "duration": 10,
    "start_time": "2022-06-21T02:03:25.939Z"
   },
   {
    "duration": 12,
    "start_time": "2022-06-21T02:03:25.951Z"
   },
   {
    "duration": 5,
    "start_time": "2022-06-21T02:03:25.965Z"
   },
   {
    "duration": 13,
    "start_time": "2022-06-21T02:03:25.971Z"
   },
   {
    "duration": 2,
    "start_time": "2022-06-21T02:03:25.986Z"
   },
   {
    "duration": 5,
    "start_time": "2022-06-21T02:03:25.990Z"
   },
   {
    "duration": 9,
    "start_time": "2022-06-21T02:03:25.997Z"
   },
   {
    "duration": 25,
    "start_time": "2022-06-21T02:03:26.008Z"
   },
   {
    "duration": 86,
    "start_time": "2022-06-21T05:23:40.036Z"
   },
   {
    "duration": 1087,
    "start_time": "2022-06-21T11:45:49.281Z"
   },
   {
    "duration": 83,
    "start_time": "2022-06-21T11:45:50.370Z"
   },
   {
    "duration": 28,
    "start_time": "2022-06-21T11:45:50.455Z"
   },
   {
    "duration": 28,
    "start_time": "2022-06-21T11:45:50.488Z"
   },
   {
    "duration": 8,
    "start_time": "2022-06-21T11:45:50.517Z"
   },
   {
    "duration": 11,
    "start_time": "2022-06-21T11:45:50.737Z"
   },
   {
    "duration": 7,
    "start_time": "2022-06-21T11:45:51.284Z"
   },
   {
    "duration": 12,
    "start_time": "2022-06-21T11:45:51.750Z"
   },
   {
    "duration": 943,
    "start_time": "2022-06-22T04:39:54.038Z"
   },
   {
    "duration": 79,
    "start_time": "2022-06-22T04:39:54.983Z"
   },
   {
    "duration": 14,
    "start_time": "2022-06-22T04:39:55.063Z"
   },
   {
    "duration": 9,
    "start_time": "2022-06-22T04:39:55.079Z"
   },
   {
    "duration": 4,
    "start_time": "2022-06-22T04:39:55.089Z"
   },
   {
    "duration": 7,
    "start_time": "2022-06-22T04:39:55.094Z"
   },
   {
    "duration": 5,
    "start_time": "2022-06-22T04:39:55.103Z"
   },
   {
    "duration": 10,
    "start_time": "2022-06-22T04:39:55.109Z"
   },
   {
    "duration": 3,
    "start_time": "2022-06-22T04:39:55.121Z"
   },
   {
    "duration": 13,
    "start_time": "2022-06-22T04:39:55.126Z"
   },
   {
    "duration": 4,
    "start_time": "2022-06-22T04:39:55.141Z"
   },
   {
    "duration": 7,
    "start_time": "2022-06-22T04:39:55.147Z"
   },
   {
    "duration": 8,
    "start_time": "2022-06-22T04:39:55.155Z"
   },
   {
    "duration": 7,
    "start_time": "2022-06-22T04:39:55.164Z"
   },
   {
    "duration": 7,
    "start_time": "2022-06-22T04:39:55.172Z"
   }
  ],
  "kernelspec": {
   "display_name": "Python 3 (ipykernel)",
   "language": "python",
   "name": "python3"
  },
  "language_info": {
   "codemirror_mode": {
    "name": "ipython",
    "version": 3
   },
   "file_extension": ".py",
   "mimetype": "text/x-python",
   "name": "python",
   "nbconvert_exporter": "python",
   "pygments_lexer": "ipython3",
   "version": "3.9.5"
  },
  "toc": {
   "base_numbering": 1,
   "nav_menu": {},
   "number_sections": true,
   "sideBar": true,
   "skip_h1_title": true,
   "title_cell": "Содержание",
   "title_sidebar": "Contents",
   "toc_cell": true,
   "toc_position": {},
   "toc_section_display": true,
   "toc_window_display": true
  }
 },
 "nbformat": 4,
 "nbformat_minor": 2
}
